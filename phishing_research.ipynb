{
 "cells": [
  {
   "cell_type": "markdown",
   "source": [
    "# Phishing Classification\n",
    "\n",
    "This analysis is based on data retrieved from XXX\n",
    "\n",
    "\n",
    "Importing Packages."
   ],
   "metadata": {
    "collapsed": false
   }
  },
  {
   "cell_type": "code",
   "execution_count": 29,
   "metadata": {
    "collapsed": true,
    "ExecuteTime": {
     "end_time": "2023-07-02T05:39:45.452873400Z",
     "start_time": "2023-07-02T05:39:45.444844600Z"
    }
   },
   "outputs": [],
   "source": [
    "import pandas as pd\n",
    "import numpy as np\n",
    "\n",
    "# data preprocessing\n",
    "from sklearn import preprocessing\n",
    "\n",
    "# exploratory analysis\n",
    "import matplotlib.pyplot as plt\n",
    "import mlxtend\n",
    "from mlxtend.plotting import scatterplotmatrix\n",
    "from mlxtend.plotting import heatmap\n",
    "import seaborn as sns\n",
    "\n",
    "# model fit\n",
    "from sklearn.model_selection import train_test_split\n",
    "import statsmodels.api as sm\n",
    "import tensorflow as tf\n",
    "# ignore warnings (libraries are rapidly changing)\n",
    "import warnings\n",
    "warnings.filterwarnings('ignore')"
   ]
  },
  {
   "cell_type": "markdown",
   "source": [
    "## Import data\n",
    "Import the data the inspect the contents."
   ],
   "metadata": {
    "collapsed": false
   }
  },
  {
   "cell_type": "code",
   "execution_count": 5,
   "outputs": [
    {
     "name": "stdout",
     "output_type": "stream",
     "text": [
      "Shape of data:  (58645, 112)\n"
     ]
    },
    {
     "data": {
      "text/plain": "   qty_dot_url  qty_hyphen_url  qty_underline_url  qty_slash_url   \n0            2               0                  0              0  \\\n1            4               0                  0              2   \n2            1               0                  0              1   \n3            2               0                  0              3   \n4            1               1                  0              4   \n\n   qty_questionmark_url  qty_equal_url  qty_at_url  qty_and_url   \n0                     0              0           0            0  \\\n1                     0              0           0            0   \n2                     0              0           0            0   \n3                     0              0           0            0   \n4                     0              0           0            0   \n\n   qty_exclamation_url  qty_space_url  ...  qty_ip_resolved  qty_nameservers   \n0                    0              0  ...                1                4  \\\n1                    0              0  ...                1                4   \n2                    0              0  ...                1                2   \n3                    0              0  ...                1                2   \n4                    0              0  ...                1                2   \n\n   qty_mx_servers  ttl_hostname  tls_ssl_certificate  qty_redirects   \n0               2          3598                    0              0  \\\n1               1          3977                    1              0   \n2               1         10788                    0              0   \n3               1         14339                    1              0   \n4               1           389                    1              1   \n\n   url_google_index  domain_google_index  url_shortened  phishing  \n0                 0                    0              0         0  \n1                 0                    0              0         0  \n2                 0                    0              0         0  \n3                 0                    0              0         1  \n4                 0                    0              0         1  \n\n[5 rows x 112 columns]",
      "text/html": "<div>\n<style scoped>\n    .dataframe tbody tr th:only-of-type {\n        vertical-align: middle;\n    }\n\n    .dataframe tbody tr th {\n        vertical-align: top;\n    }\n\n    .dataframe thead th {\n        text-align: right;\n    }\n</style>\n<table border=\"1\" class=\"dataframe\">\n  <thead>\n    <tr style=\"text-align: right;\">\n      <th></th>\n      <th>qty_dot_url</th>\n      <th>qty_hyphen_url</th>\n      <th>qty_underline_url</th>\n      <th>qty_slash_url</th>\n      <th>qty_questionmark_url</th>\n      <th>qty_equal_url</th>\n      <th>qty_at_url</th>\n      <th>qty_and_url</th>\n      <th>qty_exclamation_url</th>\n      <th>qty_space_url</th>\n      <th>...</th>\n      <th>qty_ip_resolved</th>\n      <th>qty_nameservers</th>\n      <th>qty_mx_servers</th>\n      <th>ttl_hostname</th>\n      <th>tls_ssl_certificate</th>\n      <th>qty_redirects</th>\n      <th>url_google_index</th>\n      <th>domain_google_index</th>\n      <th>url_shortened</th>\n      <th>phishing</th>\n    </tr>\n  </thead>\n  <tbody>\n    <tr>\n      <th>0</th>\n      <td>2</td>\n      <td>0</td>\n      <td>0</td>\n      <td>0</td>\n      <td>0</td>\n      <td>0</td>\n      <td>0</td>\n      <td>0</td>\n      <td>0</td>\n      <td>0</td>\n      <td>...</td>\n      <td>1</td>\n      <td>4</td>\n      <td>2</td>\n      <td>3598</td>\n      <td>0</td>\n      <td>0</td>\n      <td>0</td>\n      <td>0</td>\n      <td>0</td>\n      <td>0</td>\n    </tr>\n    <tr>\n      <th>1</th>\n      <td>4</td>\n      <td>0</td>\n      <td>0</td>\n      <td>2</td>\n      <td>0</td>\n      <td>0</td>\n      <td>0</td>\n      <td>0</td>\n      <td>0</td>\n      <td>0</td>\n      <td>...</td>\n      <td>1</td>\n      <td>4</td>\n      <td>1</td>\n      <td>3977</td>\n      <td>1</td>\n      <td>0</td>\n      <td>0</td>\n      <td>0</td>\n      <td>0</td>\n      <td>0</td>\n    </tr>\n    <tr>\n      <th>2</th>\n      <td>1</td>\n      <td>0</td>\n      <td>0</td>\n      <td>1</td>\n      <td>0</td>\n      <td>0</td>\n      <td>0</td>\n      <td>0</td>\n      <td>0</td>\n      <td>0</td>\n      <td>...</td>\n      <td>1</td>\n      <td>2</td>\n      <td>1</td>\n      <td>10788</td>\n      <td>0</td>\n      <td>0</td>\n      <td>0</td>\n      <td>0</td>\n      <td>0</td>\n      <td>0</td>\n    </tr>\n    <tr>\n      <th>3</th>\n      <td>2</td>\n      <td>0</td>\n      <td>0</td>\n      <td>3</td>\n      <td>0</td>\n      <td>0</td>\n      <td>0</td>\n      <td>0</td>\n      <td>0</td>\n      <td>0</td>\n      <td>...</td>\n      <td>1</td>\n      <td>2</td>\n      <td>1</td>\n      <td>14339</td>\n      <td>1</td>\n      <td>0</td>\n      <td>0</td>\n      <td>0</td>\n      <td>0</td>\n      <td>1</td>\n    </tr>\n    <tr>\n      <th>4</th>\n      <td>1</td>\n      <td>1</td>\n      <td>0</td>\n      <td>4</td>\n      <td>0</td>\n      <td>0</td>\n      <td>0</td>\n      <td>0</td>\n      <td>0</td>\n      <td>0</td>\n      <td>...</td>\n      <td>1</td>\n      <td>2</td>\n      <td>1</td>\n      <td>389</td>\n      <td>1</td>\n      <td>1</td>\n      <td>0</td>\n      <td>0</td>\n      <td>0</td>\n      <td>1</td>\n    </tr>\n  </tbody>\n</table>\n<p>5 rows × 112 columns</p>\n</div>"
     },
     "execution_count": 5,
     "metadata": {},
     "output_type": "execute_result"
    }
   ],
   "source": [
    "# read data\n",
    "init_df = pd.read_csv('dataset_small.csv', sep=',')\n",
    "\n",
    "# print shape of df, number of countries, and time period covered\n",
    "print('Shape of data: ', init_df.shape)\n",
    "init_df.head()"
   ],
   "metadata": {
    "collapsed": false,
    "ExecuteTime": {
     "end_time": "2023-07-02T01:55:36.551743400Z",
     "start_time": "2023-07-02T01:55:36.302180Z"
    }
   }
  },
  {
   "cell_type": "code",
   "execution_count": 8,
   "outputs": [
    {
     "name": "stdout",
     "output_type": "stream",
     "text": [
      "Columns:  ['qty_dot_url', 'qty_hyphen_url', 'qty_underline_url', 'qty_slash_url', 'qty_questionmark_url', 'qty_equal_url', 'qty_at_url', 'qty_and_url', 'qty_exclamation_url', 'qty_space_url', 'qty_tilde_url', 'qty_comma_url', 'qty_plus_url', 'qty_asterisk_url', 'qty_hashtag_url', 'qty_dollar_url', 'qty_percent_url', 'qty_tld_url', 'length_url', 'qty_dot_domain', 'qty_hyphen_domain', 'qty_underline_domain', 'qty_slash_domain', 'qty_questionmark_domain', 'qty_equal_domain', 'qty_at_domain', 'qty_and_domain', 'qty_exclamation_domain', 'qty_space_domain', 'qty_tilde_domain', 'qty_comma_domain', 'qty_plus_domain', 'qty_asterisk_domain', 'qty_hashtag_domain', 'qty_dollar_domain', 'qty_percent_domain', 'qty_vowels_domain', 'domain_length', 'domain_in_ip', 'server_client_domain', 'qty_dot_directory', 'qty_hyphen_directory', 'qty_underline_directory', 'qty_slash_directory', 'qty_questionmark_directory', 'qty_equal_directory', 'qty_at_directory', 'qty_and_directory', 'qty_exclamation_directory', 'qty_space_directory', 'qty_tilde_directory', 'qty_comma_directory', 'qty_plus_directory', 'qty_asterisk_directory', 'qty_hashtag_directory', 'qty_dollar_directory', 'qty_percent_directory', 'directory_length', 'qty_dot_file', 'qty_hyphen_file', 'qty_underline_file', 'qty_slash_file', 'qty_questionmark_file', 'qty_equal_file', 'qty_at_file', 'qty_and_file', 'qty_exclamation_file', 'qty_space_file', 'qty_tilde_file', 'qty_comma_file', 'qty_plus_file', 'qty_asterisk_file', 'qty_hashtag_file', 'qty_dollar_file', 'qty_percent_file', 'file_length', 'qty_dot_params', 'qty_hyphen_params', 'qty_underline_params', 'qty_slash_params', 'qty_questionmark_params', 'qty_equal_params', 'qty_at_params', 'qty_and_params', 'qty_exclamation_params', 'qty_space_params', 'qty_tilde_params', 'qty_comma_params', 'qty_plus_params', 'qty_asterisk_params', 'qty_hashtag_params', 'qty_dollar_params', 'qty_percent_params', 'params_length', 'tld_present_params', 'qty_params', 'email_in_url', 'time_response', 'domain_spf', 'asn_ip', 'time_domain_activation', 'time_domain_expiration', 'qty_ip_resolved', 'qty_nameservers', 'qty_mx_servers', 'ttl_hostname', 'tls_ssl_certificate', 'qty_redirects', 'url_google_index', 'domain_google_index', 'url_shortened', 'phishing']\n"
     ]
    }
   ],
   "source": [
    "print('Columns: ', list(init_df.columns))"
   ],
   "metadata": {
    "collapsed": false,
    "ExecuteTime": {
     "end_time": "2023-07-02T02:05:27.883209Z",
     "start_time": "2023-07-02T02:05:27.851550200Z"
    }
   }
  },
  {
   "cell_type": "code",
   "execution_count": 10,
   "outputs": [
    {
     "data": {
      "text/plain": "qty_dot_url             int64\nqty_hyphen_url          int64\nqty_underline_url       int64\nqty_slash_url           int64\nqty_questionmark_url    int64\n                        ...  \nqty_redirects           int64\nurl_google_index        int64\ndomain_google_index     int64\nurl_shortened           int64\nphishing                int64\nLength: 112, dtype: object"
     },
     "execution_count": 10,
     "metadata": {},
     "output_type": "execute_result"
    }
   ],
   "source": [
    "# let's use data and init_df interchangeablly\n",
    "data = init_df\n",
    "data.dtypes"
   ],
   "metadata": {
    "collapsed": false,
    "ExecuteTime": {
     "end_time": "2023-07-02T02:09:25.349385600Z",
     "start_time": "2023-07-02T02:09:25.314974300Z"
    }
   }
  },
  {
   "cell_type": "code",
   "execution_count": 11,
   "outputs": [
    {
     "data": {
      "text/plain": "        qty_dot_url  qty_hyphen_url  qty_underline_url  qty_slash_url   \ncount  58645.000000    58645.000000       58645.000000   58645.000000  \\\nmean       2.284338        0.457123           0.171285       1.937522   \nstd        1.473209        1.339340           0.801919       2.037525   \nmin        1.000000        0.000000           0.000000       0.000000   \n25%        2.000000        0.000000           0.000000       0.000000   \n50%        2.000000        0.000000           0.000000       1.000000   \n75%        3.000000        0.000000           0.000000       3.000000   \nmax       24.000000       35.000000          21.000000      44.000000   \n\n       qty_questionmark_url  qty_equal_url    qty_at_url   qty_and_url   \ncount          58645.000000   58645.000000  58645.000000  58645.000000  \\\nmean               0.014102       0.311177      0.033456      0.212959   \nstd                0.138156       1.159198      0.343272      1.130323   \nmin                0.000000       0.000000      0.000000      0.000000   \n25%                0.000000       0.000000      0.000000      0.000000   \n50%                0.000000       0.000000      0.000000      0.000000   \n75%                0.000000       0.000000      0.000000      0.000000   \nmax                9.000000      23.000000     43.000000     26.000000   \n\n       qty_exclamation_url  qty_space_url  ...  qty_ip_resolved   \ncount         58645.000000   58645.000000  ...     58645.000000  \\\nmean              0.004451       0.001535  ...         1.110666   \nstd               0.107352       0.089320  ...         0.912962   \nmin               0.000000       0.000000  ...        -1.000000   \n25%               0.000000       0.000000  ...         1.000000   \n50%               0.000000       0.000000  ...         1.000000   \n75%               0.000000       0.000000  ...         1.000000   \nmax              10.000000       9.000000  ...        24.000000   \n\n       qty_nameservers  qty_mx_servers  ttl_hostname  tls_ssl_certificate   \ncount     58645.000000    58645.000000  58645.000000         58645.000000  \\\nmean          2.829619        1.630113   5056.676272             0.501373   \nstd           1.377018        1.719554   7102.853538             0.500002   \nmin           0.000000        0.000000     -1.000000             0.000000   \n25%           2.000000        1.000000    288.000000             0.000000   \n50%           2.000000        1.000000   1191.000000             1.000000   \n75%           4.000000        2.000000   9866.000000             1.000000   \nmax          16.000000       20.000000  86400.000000             1.000000   \n\n       qty_redirects  url_google_index  domain_google_index  url_shortened   \ncount   58645.000000      58645.000000         58645.000000   58645.000000  \\\nmean        0.303419          0.001279             0.002234       0.008287   \nstd         0.815315          0.037599             0.047927       0.090657   \nmin        -1.000000         -1.000000            -1.000000       0.000000   \n25%         0.000000          0.000000             0.000000       0.000000   \n50%         0.000000          0.000000             0.000000       0.000000   \n75%         1.000000          0.000000             0.000000       0.000000   \nmax        17.000000          1.000000             1.000000       1.000000   \n\n           phishing  \ncount  58645.000000  \nmean       0.522585  \nstd        0.499494  \nmin        0.000000  \n25%        0.000000  \n50%        1.000000  \n75%        1.000000  \nmax        1.000000  \n\n[8 rows x 112 columns]",
      "text/html": "<div>\n<style scoped>\n    .dataframe tbody tr th:only-of-type {\n        vertical-align: middle;\n    }\n\n    .dataframe tbody tr th {\n        vertical-align: top;\n    }\n\n    .dataframe thead th {\n        text-align: right;\n    }\n</style>\n<table border=\"1\" class=\"dataframe\">\n  <thead>\n    <tr style=\"text-align: right;\">\n      <th></th>\n      <th>qty_dot_url</th>\n      <th>qty_hyphen_url</th>\n      <th>qty_underline_url</th>\n      <th>qty_slash_url</th>\n      <th>qty_questionmark_url</th>\n      <th>qty_equal_url</th>\n      <th>qty_at_url</th>\n      <th>qty_and_url</th>\n      <th>qty_exclamation_url</th>\n      <th>qty_space_url</th>\n      <th>...</th>\n      <th>qty_ip_resolved</th>\n      <th>qty_nameservers</th>\n      <th>qty_mx_servers</th>\n      <th>ttl_hostname</th>\n      <th>tls_ssl_certificate</th>\n      <th>qty_redirects</th>\n      <th>url_google_index</th>\n      <th>domain_google_index</th>\n      <th>url_shortened</th>\n      <th>phishing</th>\n    </tr>\n  </thead>\n  <tbody>\n    <tr>\n      <th>count</th>\n      <td>58645.000000</td>\n      <td>58645.000000</td>\n      <td>58645.000000</td>\n      <td>58645.000000</td>\n      <td>58645.000000</td>\n      <td>58645.000000</td>\n      <td>58645.000000</td>\n      <td>58645.000000</td>\n      <td>58645.000000</td>\n      <td>58645.000000</td>\n      <td>...</td>\n      <td>58645.000000</td>\n      <td>58645.000000</td>\n      <td>58645.000000</td>\n      <td>58645.000000</td>\n      <td>58645.000000</td>\n      <td>58645.000000</td>\n      <td>58645.000000</td>\n      <td>58645.000000</td>\n      <td>58645.000000</td>\n      <td>58645.000000</td>\n    </tr>\n    <tr>\n      <th>mean</th>\n      <td>2.284338</td>\n      <td>0.457123</td>\n      <td>0.171285</td>\n      <td>1.937522</td>\n      <td>0.014102</td>\n      <td>0.311177</td>\n      <td>0.033456</td>\n      <td>0.212959</td>\n      <td>0.004451</td>\n      <td>0.001535</td>\n      <td>...</td>\n      <td>1.110666</td>\n      <td>2.829619</td>\n      <td>1.630113</td>\n      <td>5056.676272</td>\n      <td>0.501373</td>\n      <td>0.303419</td>\n      <td>0.001279</td>\n      <td>0.002234</td>\n      <td>0.008287</td>\n      <td>0.522585</td>\n    </tr>\n    <tr>\n      <th>std</th>\n      <td>1.473209</td>\n      <td>1.339340</td>\n      <td>0.801919</td>\n      <td>2.037525</td>\n      <td>0.138156</td>\n      <td>1.159198</td>\n      <td>0.343272</td>\n      <td>1.130323</td>\n      <td>0.107352</td>\n      <td>0.089320</td>\n      <td>...</td>\n      <td>0.912962</td>\n      <td>1.377018</td>\n      <td>1.719554</td>\n      <td>7102.853538</td>\n      <td>0.500002</td>\n      <td>0.815315</td>\n      <td>0.037599</td>\n      <td>0.047927</td>\n      <td>0.090657</td>\n      <td>0.499494</td>\n    </tr>\n    <tr>\n      <th>min</th>\n      <td>1.000000</td>\n      <td>0.000000</td>\n      <td>0.000000</td>\n      <td>0.000000</td>\n      <td>0.000000</td>\n      <td>0.000000</td>\n      <td>0.000000</td>\n      <td>0.000000</td>\n      <td>0.000000</td>\n      <td>0.000000</td>\n      <td>...</td>\n      <td>-1.000000</td>\n      <td>0.000000</td>\n      <td>0.000000</td>\n      <td>-1.000000</td>\n      <td>0.000000</td>\n      <td>-1.000000</td>\n      <td>-1.000000</td>\n      <td>-1.000000</td>\n      <td>0.000000</td>\n      <td>0.000000</td>\n    </tr>\n    <tr>\n      <th>25%</th>\n      <td>2.000000</td>\n      <td>0.000000</td>\n      <td>0.000000</td>\n      <td>0.000000</td>\n      <td>0.000000</td>\n      <td>0.000000</td>\n      <td>0.000000</td>\n      <td>0.000000</td>\n      <td>0.000000</td>\n      <td>0.000000</td>\n      <td>...</td>\n      <td>1.000000</td>\n      <td>2.000000</td>\n      <td>1.000000</td>\n      <td>288.000000</td>\n      <td>0.000000</td>\n      <td>0.000000</td>\n      <td>0.000000</td>\n      <td>0.000000</td>\n      <td>0.000000</td>\n      <td>0.000000</td>\n    </tr>\n    <tr>\n      <th>50%</th>\n      <td>2.000000</td>\n      <td>0.000000</td>\n      <td>0.000000</td>\n      <td>1.000000</td>\n      <td>0.000000</td>\n      <td>0.000000</td>\n      <td>0.000000</td>\n      <td>0.000000</td>\n      <td>0.000000</td>\n      <td>0.000000</td>\n      <td>...</td>\n      <td>1.000000</td>\n      <td>2.000000</td>\n      <td>1.000000</td>\n      <td>1191.000000</td>\n      <td>1.000000</td>\n      <td>0.000000</td>\n      <td>0.000000</td>\n      <td>0.000000</td>\n      <td>0.000000</td>\n      <td>1.000000</td>\n    </tr>\n    <tr>\n      <th>75%</th>\n      <td>3.000000</td>\n      <td>0.000000</td>\n      <td>0.000000</td>\n      <td>3.000000</td>\n      <td>0.000000</td>\n      <td>0.000000</td>\n      <td>0.000000</td>\n      <td>0.000000</td>\n      <td>0.000000</td>\n      <td>0.000000</td>\n      <td>...</td>\n      <td>1.000000</td>\n      <td>4.000000</td>\n      <td>2.000000</td>\n      <td>9866.000000</td>\n      <td>1.000000</td>\n      <td>1.000000</td>\n      <td>0.000000</td>\n      <td>0.000000</td>\n      <td>0.000000</td>\n      <td>1.000000</td>\n    </tr>\n    <tr>\n      <th>max</th>\n      <td>24.000000</td>\n      <td>35.000000</td>\n      <td>21.000000</td>\n      <td>44.000000</td>\n      <td>9.000000</td>\n      <td>23.000000</td>\n      <td>43.000000</td>\n      <td>26.000000</td>\n      <td>10.000000</td>\n      <td>9.000000</td>\n      <td>...</td>\n      <td>24.000000</td>\n      <td>16.000000</td>\n      <td>20.000000</td>\n      <td>86400.000000</td>\n      <td>1.000000</td>\n      <td>17.000000</td>\n      <td>1.000000</td>\n      <td>1.000000</td>\n      <td>1.000000</td>\n      <td>1.000000</td>\n    </tr>\n  </tbody>\n</table>\n<p>8 rows × 112 columns</p>\n</div>"
     },
     "execution_count": 11,
     "metadata": {},
     "output_type": "execute_result"
    }
   ],
   "source": [
    "## Inspect and\n",
    "data.describe()"
   ],
   "metadata": {
    "collapsed": false,
    "ExecuteTime": {
     "end_time": "2023-07-02T02:10:29.087757100Z",
     "start_time": "2023-07-02T02:10:28.886388500Z"
    }
   }
  },
  {
   "cell_type": "markdown",
   "source": [
    "## Understanding the Data\n",
    "### Input variables\n",
    "1. Qty features indicate the number of specific characters in each part of the URL\n",
    "+ URL\n",
    "+ Domain\n",
    "+ Directory\n",
    "+ File\n",
    "+ Params\n",
    "\n",
    "2. Phishing - 0 normal url, 1 phishing url"
   ],
   "metadata": {
    "collapsed": false
   }
  },
  {
   "cell_type": "code",
   "execution_count": 13,
   "outputs": [
    {
     "data": {
      "text/plain": "phishing\n1    30647\n0    27998\nName: count, dtype: int64"
     },
     "execution_count": 13,
     "metadata": {},
     "output_type": "execute_result"
    }
   ],
   "source": [
    "data.phishing.value_counts()"
   ],
   "metadata": {
    "collapsed": false,
    "ExecuteTime": {
     "end_time": "2023-07-02T02:44:21.329801900Z",
     "start_time": "2023-07-02T02:44:21.299191300Z"
    }
   }
  },
  {
   "cell_type": "code",
   "execution_count": 14,
   "outputs": [
    {
     "data": {
      "text/plain": "<Figure size 640x480 with 1 Axes>",
      "image/png": "[encoded data removed]"
     },
     "metadata": {},
     "output_type": "display_data"
    },
    {
     "data": {
      "text/plain": "<Figure size 640x480 with 0 Axes>"
     },
     "metadata": {},
     "output_type": "display_data"
    }
   ],
   "source": [
    "sns.countplot(x='phishing',data=data,palette='hls')\n",
    "plt.show()\n",
    "plt.savefig('count_plot')"
   ],
   "metadata": {
    "collapsed": false,
    "ExecuteTime": {
     "end_time": "2023-07-02T02:46:31.136932400Z",
     "start_time": "2023-07-02T02:46:30.897842Z"
    }
   }
  },
  {
   "cell_type": "code",
   "execution_count": 15,
   "outputs": [
    {
     "data": {
      "text/plain": "          qty_dot_url  qty_hyphen_url  qty_underline_url  qty_slash_url   \nphishing                                                                  \n0            2.067719        0.259840           0.044789       0.661619  \\\n1            2.482233        0.637354           0.286847       3.103142   \n\n          qty_questionmark_url  qty_equal_url  qty_at_url  qty_and_url   \nphishing                                                                 \n0                     0.000393       0.049111    0.000071     0.024502  \\\n1                     0.026626       0.550592    0.063954     0.385127   \n\n          qty_exclamation_url  qty_space_url  ...  time_domain_expiration   \nphishing                                      ...                           \n0                    0.001786       0.000000  ...              379.129724  \\\n1                    0.006885       0.002937  ...              215.491957   \n\n          qty_ip_resolved  qty_nameservers  qty_mx_servers  ttl_hostname   \nphishing                                                                   \n0                1.121866         3.024395        1.711694   4034.522609  \\\n1                1.100434         2.651679        1.555585   5990.479199   \n\n          tls_ssl_certificate  qty_redirects  url_google_index   \nphishing                                                         \n0                    0.523109       0.332024          0.001929  \\\n1                    0.481515       0.277287          0.000685   \n\n          domain_google_index  url_shortened  \nphishing                                      \n0                    0.002393       0.000321  \n1                    0.002088       0.015564  \n\n[2 rows x 111 columns]",
      "text/html": "<div>\n<style scoped>\n    .dataframe tbody tr th:only-of-type {\n        vertical-align: middle;\n    }\n\n    .dataframe tbody tr th {\n        vertical-align: top;\n    }\n\n    .dataframe thead th {\n        text-align: right;\n    }\n</style>\n<table border=\"1\" class=\"dataframe\">\n  <thead>\n    <tr style=\"text-align: right;\">\n      <th></th>\n      <th>qty_dot_url</th>\n      <th>qty_hyphen_url</th>\n      <th>qty_underline_url</th>\n      <th>qty_slash_url</th>\n      <th>qty_questionmark_url</th>\n      <th>qty_equal_url</th>\n      <th>qty_at_url</th>\n      <th>qty_and_url</th>\n      <th>qty_exclamation_url</th>\n      <th>qty_space_url</th>\n      <th>...</th>\n      <th>time_domain_expiration</th>\n      <th>qty_ip_resolved</th>\n      <th>qty_nameservers</th>\n      <th>qty_mx_servers</th>\n      <th>ttl_hostname</th>\n      <th>tls_ssl_certificate</th>\n      <th>qty_redirects</th>\n      <th>url_google_index</th>\n      <th>domain_google_index</th>\n      <th>url_shortened</th>\n    </tr>\n    <tr>\n      <th>phishing</th>\n      <th></th>\n      <th></th>\n      <th></th>\n      <th></th>\n      <th></th>\n      <th></th>\n      <th></th>\n      <th></th>\n      <th></th>\n      <th></th>\n      <th></th>\n      <th></th>\n      <th></th>\n      <th></th>\n      <th></th>\n      <th></th>\n      <th></th>\n      <th></th>\n      <th></th>\n      <th></th>\n      <th></th>\n    </tr>\n  </thead>\n  <tbody>\n    <tr>\n      <th>0</th>\n      <td>2.067719</td>\n      <td>0.259840</td>\n      <td>0.044789</td>\n      <td>0.661619</td>\n      <td>0.000393</td>\n      <td>0.049111</td>\n      <td>0.000071</td>\n      <td>0.024502</td>\n      <td>0.001786</td>\n      <td>0.000000</td>\n      <td>...</td>\n      <td>379.129724</td>\n      <td>1.121866</td>\n      <td>3.024395</td>\n      <td>1.711694</td>\n      <td>4034.522609</td>\n      <td>0.523109</td>\n      <td>0.332024</td>\n      <td>0.001929</td>\n      <td>0.002393</td>\n      <td>0.000321</td>\n    </tr>\n    <tr>\n      <th>1</th>\n      <td>2.482233</td>\n      <td>0.637354</td>\n      <td>0.286847</td>\n      <td>3.103142</td>\n      <td>0.026626</td>\n      <td>0.550592</td>\n      <td>0.063954</td>\n      <td>0.385127</td>\n      <td>0.006885</td>\n      <td>0.002937</td>\n      <td>...</td>\n      <td>215.491957</td>\n      <td>1.100434</td>\n      <td>2.651679</td>\n      <td>1.555585</td>\n      <td>5990.479199</td>\n      <td>0.481515</td>\n      <td>0.277287</td>\n      <td>0.000685</td>\n      <td>0.002088</td>\n      <td>0.015564</td>\n    </tr>\n  </tbody>\n</table>\n<p>2 rows × 111 columns</p>\n</div>"
     },
     "execution_count": 15,
     "metadata": {},
     "output_type": "execute_result"
    }
   ],
   "source": [
    "## Data Summarization\n",
    "data.groupby('phishing').mean()"
   ],
   "metadata": {
    "collapsed": false,
    "ExecuteTime": {
     "end_time": "2023-07-02T02:47:51.356028200Z",
     "start_time": "2023-07-02T02:47:51.290011900Z"
    }
   }
  },
  {
   "cell_type": "markdown",
   "source": [
    "**Observation**\n",
    "\n",
    "1. asterisk, hashtag, dollar are all not in normal URLs and only in Phishing URLs\n",
    "2. phishing URLs tend to be much longer\n",
    "3. slash, question, equal, and, exclamation, space, tilde, comma, plus, asterisk, hash, dollar, percent are not valid character for domain in either category.  These features can be dropped\n",
    "4. Need to understand what `-` means in directory\n",
    "5. directory_length is much longer for phishing sites\n",
    "6. file_length is much longer for phishing sites\n",
    "7. params_length much longer for phishing sites\n",
    "8. time_domain_activation is much shorter for phishing sites\n",
    "9. time_domain_expiration is much shorter for phishing sites\n"
   ],
   "metadata": {
    "collapsed": false
   }
  },
  {
   "cell_type": "code",
   "execution_count": null,
   "outputs": [],
   "source": [
    "###\n",
    "### TBD ###\n",
    "### Review relationship of length to phishiing prediction"
   ],
   "metadata": {
    "collapsed": false
   }
  },
  {
   "cell_type": "code",
   "execution_count": 42,
   "outputs": [],
   "source": [
    "from sklearn import datasets\n",
    "from sklearn.feature_selection import RFE\n",
    "from sklearn.linear_model import LogisticRegression\n",
    "\n",
    "logreg = LogisticRegression()\n",
    "rfe = RFE(logreg,n_features_to_select=30)\n",
    "data_x = data.drop('phishing', axis=1)\n",
    "\n",
    "rfe = rfe.fit(data_x,data.phishing)\n",
    "Selected_Features_Support = list(rfe.support_)\n",
    "Selected_Features_rank = list(rfe.ranking_)"
   ],
   "metadata": {
    "collapsed": false,
    "ExecuteTime": {
     "end_time": "2023-07-02T05:53:53.638761900Z",
     "start_time": "2023-07-02T05:53:06.468276400Z"
    }
   }
  },
  {
   "cell_type": "code",
   "execution_count": 43,
   "outputs": [
    {
     "name": "stdout",
     "output_type": "stream",
     "text": [
      "[['qty_dot_url' 'False' '37']\n",
      " ['qty_hyphen_url' 'False' '31']\n",
      " ['qty_underline_url' 'False' '45']\n",
      " ['qty_slash_url' 'True' '1']\n",
      " ['qty_questionmark_url' 'False' '28']\n",
      " ['qty_equal_url' 'False' '33']\n",
      " ['qty_at_url' 'True' '1']\n",
      " ['qty_and_url' 'False' '27']\n",
      " ['qty_exclamation_url' 'False' '59']\n",
      " ['qty_space_url' 'False' '48']\n",
      " ['qty_tilde_url' 'False' '67']\n",
      " ['qty_comma_url' 'False' '3']\n",
      " ['qty_plus_url' 'True' '1']\n",
      " ['qty_asterisk_url' 'True' '1']\n",
      " ['qty_hashtag_url' 'False' '63']\n",
      " ['qty_dollar_url' 'False' '65']\n",
      " ['qty_percent_url' 'False' '14']\n",
      " ['qty_tld_url' 'True' '1']\n",
      " ['length_url' 'False' '46']\n",
      " ['qty_dot_domain' 'True' '1']\n",
      " ['qty_hyphen_domain' 'True' '1']\n",
      " ['qty_underline_domain' 'False' '42']\n",
      " ['qty_slash_domain' 'False' '70']\n",
      " ['qty_questionmark_domain' 'False' '71']\n",
      " ['qty_equal_domain' 'False' '80']\n",
      " ['qty_at_domain' 'False' '68']\n",
      " ['qty_and_domain' 'False' '72']\n",
      " ['qty_exclamation_domain' 'False' '81']\n",
      " ['qty_space_domain' 'False' '79']\n",
      " ['qty_tilde_domain' 'False' '78']\n",
      " ['qty_comma_domain' 'False' '73']\n",
      " ['qty_plus_domain' 'False' '74']\n",
      " ['qty_asterisk_domain' 'False' '77']\n",
      " ['qty_hashtag_domain' 'False' '76']\n",
      " ['qty_dollar_domain' 'False' '75']\n",
      " ['qty_percent_domain' 'False' '82']\n",
      " ['qty_vowels_domain' 'False' '51']\n",
      " ['domain_length' 'False' '4']\n",
      " ['domain_in_ip' 'True' '1']\n",
      " ['server_client_domain' 'True' '1']\n",
      " ['qty_dot_directory' 'True' '1']\n",
      " ['qty_hyphen_directory' 'True' '1']\n",
      " ['qty_underline_directory' 'False' '23']\n",
      " ['qty_slash_directory' 'False' '44']\n",
      " ['qty_questionmark_directory' 'False' '7']\n",
      " ['qty_equal_directory' 'True' '1']\n",
      " ['qty_at_directory' 'True' '1']\n",
      " ['qty_and_directory' 'True' '1']\n",
      " ['qty_exclamation_directory' 'True' '1']\n",
      " ['qty_space_directory' 'False' '25']\n",
      " ['qty_tilde_directory' 'False' '22']\n",
      " ['qty_comma_directory' 'True' '1']\n",
      " ['qty_plus_directory' 'True' '1']\n",
      " ['qty_asterisk_directory' 'True' '1']\n",
      " ['qty_hashtag_directory' 'False' '5']\n",
      " ['qty_dollar_directory' 'False' '12']\n",
      " ['qty_percent_directory' 'False' '55']\n",
      " ['directory_length' 'False' '26']\n",
      " ['qty_dot_file' 'False' '38']\n",
      " ['qty_hyphen_file' 'False' '29']\n",
      " ['qty_underline_file' 'True' '1']\n",
      " ['qty_slash_file' 'False' '6']\n",
      " ['qty_questionmark_file' 'False' '9']\n",
      " ['qty_equal_file' 'False' '2']\n",
      " ['qty_at_file' 'False' '21']\n",
      " ['qty_and_file' 'False' '17']\n",
      " ['qty_exclamation_file' 'True' '1']\n",
      " ['qty_space_file' 'False' '24']\n",
      " ['qty_tilde_file' 'False' '41']\n",
      " ['qty_comma_file' 'True' '1']\n",
      " ['qty_plus_file' 'False' '56']\n",
      " ['qty_asterisk_file' 'False' '13']\n",
      " ['qty_hashtag_file' 'False' '10']\n",
      " ['qty_dollar_file' 'False' '11']\n",
      " ['qty_percent_file' 'False' '52']\n",
      " ['file_length' 'False' '32']\n",
      " ['qty_dot_params' 'False' '20']\n",
      " ['qty_hyphen_params' 'False' '19']\n",
      " ['qty_underline_params' 'True' '1']\n",
      " ['qty_slash_params' 'True' '1']\n",
      " ['qty_questionmark_params' 'False' '8']\n",
      " ['qty_equal_params' 'False' '64']\n",
      " ['qty_at_params' 'True' '1']\n",
      " ['qty_and_params' 'False' '18']\n",
      " ['qty_exclamation_params' 'False' '60']\n",
      " ['qty_space_params' 'False' '49']\n",
      " ['qty_tilde_params' 'False' '50']\n",
      " ['qty_comma_params' 'False' '54']\n",
      " ['qty_plus_params' 'False' '36']\n",
      " ['qty_asterisk_params' 'False' '53']\n",
      " ['qty_hashtag_params' 'False' '58']\n",
      " ['qty_dollar_params' 'False' '57']\n",
      " ['qty_percent_params' 'False' '35']\n",
      " ['params_length' 'False' '16']\n",
      " ['tld_present_params' 'True' '1']\n",
      " ['qty_params' 'False' '15']\n",
      " ['email_in_url' 'True' '1']\n",
      " ['time_response' 'False' '30']\n",
      " ['domain_spf' 'False' '43']\n",
      " ['asn_ip' 'False' '69']\n",
      " ['time_domain_activation' 'False' '61']\n",
      " ['time_domain_expiration' 'False' '62']\n",
      " ['qty_ip_resolved' 'False' '39']\n",
      " ['qty_nameservers' 'True' '1']\n",
      " ['qty_mx_servers' 'False' '34']\n",
      " ['ttl_hostname' 'False' '66']\n",
      " ['tls_ssl_certificate' 'True' '1']\n",
      " ['qty_redirects' 'False' '40']\n",
      " ['url_google_index' 'False' '47']\n",
      " ['domain_google_index' 'True' '1']\n",
      " ['url_shortened' 'True' '1']]\n"
     ]
    }
   ],
   "source": [
    "Features = data_x.columns.tolist()\n",
    "Selected_Features = np.column_stack((Features,Selected_Features_Support,Selected_Features_rank))\n",
    "print(Selected_Features)"
   ],
   "metadata": {
    "collapsed": false,
    "ExecuteTime": {
     "end_time": "2023-07-02T05:53:53.653546900Z",
     "start_time": "2023-07-02T05:53:53.638761900Z"
    }
   }
  },
  {
   "cell_type": "code",
   "execution_count": 58,
   "outputs": [
    {
     "name": "stdout",
     "output_type": "stream",
     "text": [
      "['qty_slash_url' 'qty_at_url' 'qty_plus_url' 'qty_asterisk_url'\n",
      " 'qty_tld_url' 'qty_dot_domain' 'qty_hyphen_domain' 'domain_in_ip'\n",
      " 'server_client_domain' 'qty_dot_directory' 'qty_hyphen_directory'\n",
      " 'qty_equal_directory' 'qty_at_directory' 'qty_and_directory'\n",
      " 'qty_exclamation_directory' 'qty_comma_directory' 'qty_plus_directory'\n",
      " 'qty_asterisk_directory' 'qty_underline_file' 'qty_exclamation_file'\n",
      " 'qty_comma_file' 'qty_underline_params' 'qty_slash_params'\n",
      " 'qty_at_params' 'tld_present_params' 'email_in_url' 'qty_nameservers'\n",
      " 'tls_ssl_certificate' 'domain_google_index' 'url_shortened']\n"
     ]
    }
   ],
   "source": [
    "selected_idx = Selected_Features[:, 1] == 'True'\n",
    "final_selection = Selected_Features[selected_idx,0]\n",
    "#final_selection = np.append(final_selection, 'directory_length')\n",
    "print(final_selection)\n"
   ],
   "metadata": {
    "collapsed": false,
    "ExecuteTime": {
     "end_time": "2023-07-02T06:03:56.261304500Z",
     "start_time": "2023-07-02T06:03:56.248827300Z"
    }
   }
  },
  {
   "cell_type": "code",
   "execution_count": 59,
   "outputs": [
    {
     "name": "stdout",
     "output_type": "stream",
     "text": [
      "X Shape: (58645, 30)\n",
      "y Shape: (58645,)\n"
     ]
    }
   ],
   "source": [
    "X = data_x[final_selection]\n",
    "y = data['phishing']\n",
    "\n",
    "print(\"X Shape:\", X.shape)\n",
    "print(\"y Shape:\", y.shape)\n"
   ],
   "metadata": {
    "collapsed": false,
    "ExecuteTime": {
     "end_time": "2023-07-02T06:03:58.579531700Z",
     "start_time": "2023-07-02T06:03:58.561771400Z"
    }
   }
  },
  {
   "cell_type": "markdown",
   "source": [
    "### Model Implementation\n",
    "Let's do a Test v. Train of 70% v 30%\n"
   ],
   "metadata": {
    "collapsed": false
   }
  },
  {
   "cell_type": "code",
   "execution_count": 60,
   "outputs": [
    {
     "name": "stdout",
     "output_type": "stream",
     "text": [
      "Accuracy of logistic regression classifier on test set: 0.852848\n"
     ]
    }
   ],
   "source": [
    "X_train,X_test,y_train,y_test = train_test_split(X,y, test_size = 0.3, random_state=0)\n",
    "logreg = LogisticRegression()\n",
    "logreg.fit(X_train, y_train)\n",
    "y_pred = logreg.predict(X_test)\n",
    "\n",
    "## Calculating the accuracy\n",
    "print('Accuracy of logistic regression classifier on test set: {:2f}'.format(logreg.score(X_test,y_test)))"
   ],
   "metadata": {
    "collapsed": false,
    "ExecuteTime": {
     "end_time": "2023-07-02T06:04:01.254038600Z",
     "start_time": "2023-07-02T06:04:00.962563500Z"
    }
   }
  },
  {
   "cell_type": "code",
   "execution_count": 61,
   "outputs": [
    {
     "name": "stdout",
     "output_type": "stream",
     "text": [
      "10-fold cross-validation average accuracy : 0.854\n"
     ]
    }
   ],
   "source": [
    "from sklearn import model_selection\n",
    "kfold = model_selection.KFold(n_splits = 10)\n",
    "\n",
    "modelCV = LogisticRegression()\n",
    "scoring = 'accuracy'\n",
    "results = model_selection.cross_val_score(modelCV, X_train,y_train, cv = kfold, scoring = scoring)\n",
    "print(\"10-fold cross-validation average accuracy : %.3f\" % (results.mean()))"
   ],
   "metadata": {
    "collapsed": false,
    "ExecuteTime": {
     "end_time": "2023-07-02T06:04:07.143400100Z",
     "start_time": "2023-07-02T06:04:04.847478500Z"
    }
   }
  },
  {
   "cell_type": "code",
   "execution_count": 34,
   "outputs": [],
   "source": [
    "from sklearn import datasets\n",
    "from sklearn.feature_selection import RFE\n",
    "from sklearn.linear_model import LogisticRegression\n",
    "\n",
    "logreg = LogisticRegression()\n",
    "rfe = RFE(logreg, n_features_to_select=18)\n",
    "data_x = data.drop('phishing', axis=1)\n",
    "\n",
    "rfe = rfe.fit(data_x, data.phishing)\n",
    "Selected_Features_Support = list(rfe.support_)\n",
    "Selected_Features_rank = list(rfe.ranking_)\n"
   ],
   "metadata": {
    "collapsed": false,
    "ExecuteTime": {
     "end_time": "2023-07-02T05:47:42.311875700Z",
     "start_time": "2023-07-02T05:46:51.589957900Z"
    }
   }
  },
  {
   "cell_type": "code",
   "execution_count": 35,
   "outputs": [
    {
     "name": "stdout",
     "output_type": "stream",
     "text": [
      "[['qty_dot_url' 'False' '49']\n",
      " ['qty_hyphen_url' 'False' '43']\n",
      " ['qty_underline_url' 'False' '57']\n",
      " ['qty_slash_url' 'True' '1']\n",
      " ['qty_questionmark_url' 'False' '40']\n",
      " ['qty_equal_url' 'False' '45']\n",
      " ['qty_at_url' 'True' '1']\n",
      " ['qty_and_url' 'False' '39']\n",
      " ['qty_exclamation_url' 'False' '71']\n",
      " ['qty_space_url' 'False' '60']\n",
      " ['qty_tilde_url' 'False' '79']\n",
      " ['qty_comma_url' 'False' '15']\n",
      " ['qty_plus_url' 'False' '2']\n",
      " ['qty_asterisk_url' 'True' '1']\n",
      " ['qty_hashtag_url' 'False' '75']\n",
      " ['qty_dollar_url' 'False' '77']\n",
      " ['qty_percent_url' 'False' '26']\n",
      " ['qty_tld_url' 'False' '8']\n",
      " ['length_url' 'False' '58']\n",
      " ['qty_dot_domain' 'True' '1']\n",
      " ['qty_hyphen_domain' 'True' '1']\n",
      " ['qty_underline_domain' 'False' '54']\n",
      " ['qty_slash_domain' 'False' '82']\n",
      " ['qty_questionmark_domain' 'False' '83']\n",
      " ['qty_equal_domain' 'False' '92']\n",
      " ['qty_at_domain' 'False' '80']\n",
      " ['qty_and_domain' 'False' '84']\n",
      " ['qty_exclamation_domain' 'False' '93']\n",
      " ['qty_space_domain' 'False' '91']\n",
      " ['qty_tilde_domain' 'False' '90']\n",
      " ['qty_comma_domain' 'False' '85']\n",
      " ['qty_plus_domain' 'False' '86']\n",
      " ['qty_asterisk_domain' 'False' '89']\n",
      " ['qty_hashtag_domain' 'False' '88']\n",
      " ['qty_dollar_domain' 'False' '87']\n",
      " ['qty_percent_domain' 'False' '94']\n",
      " ['qty_vowels_domain' 'False' '63']\n",
      " ['domain_length' 'False' '16']\n",
      " ['domain_in_ip' 'True' '1']\n",
      " ['server_client_domain' 'True' '1']\n",
      " ['qty_dot_directory' 'True' '1']\n",
      " ['qty_hyphen_directory' 'False' '7']\n",
      " ['qty_underline_directory' 'False' '35']\n",
      " ['qty_slash_directory' 'False' '56']\n",
      " ['qty_questionmark_directory' 'False' '19']\n",
      " ['qty_equal_directory' 'True' '1']\n",
      " ['qty_at_directory' 'False' '5']\n",
      " ['qty_and_directory' 'False' '11']\n",
      " ['qty_exclamation_directory' 'True' '1']\n",
      " ['qty_space_directory' 'False' '37']\n",
      " ['qty_tilde_directory' 'False' '34']\n",
      " ['qty_comma_directory' 'True' '1']\n",
      " ['qty_plus_directory' 'False' '13']\n",
      " ['qty_asterisk_directory' 'False' '9']\n",
      " ['qty_hashtag_directory' 'False' '17']\n",
      " ['qty_dollar_directory' 'False' '24']\n",
      " ['qty_percent_directory' 'False' '67']\n",
      " ['directory_length' 'False' '38']\n",
      " ['qty_dot_file' 'False' '50']\n",
      " ['qty_hyphen_file' 'False' '41']\n",
      " ['qty_underline_file' 'False' '10']\n",
      " ['qty_slash_file' 'False' '18']\n",
      " ['qty_questionmark_file' 'False' '21']\n",
      " ['qty_equal_file' 'False' '14']\n",
      " ['qty_at_file' 'False' '33']\n",
      " ['qty_and_file' 'False' '29']\n",
      " ['qty_exclamation_file' 'True' '1']\n",
      " ['qty_space_file' 'False' '36']\n",
      " ['qty_tilde_file' 'False' '53']\n",
      " ['qty_comma_file' 'True' '1']\n",
      " ['qty_plus_file' 'False' '68']\n",
      " ['qty_asterisk_file' 'False' '25']\n",
      " ['qty_hashtag_file' 'False' '22']\n",
      " ['qty_dollar_file' 'False' '23']\n",
      " ['qty_percent_file' 'False' '64']\n",
      " ['file_length' 'False' '44']\n",
      " ['qty_dot_params' 'False' '32']\n",
      " ['qty_hyphen_params' 'False' '31']\n",
      " ['qty_underline_params' 'True' '1']\n",
      " ['qty_slash_params' 'False' '6']\n",
      " ['qty_questionmark_params' 'False' '20']\n",
      " ['qty_equal_params' 'False' '76']\n",
      " ['qty_at_params' 'True' '1']\n",
      " ['qty_and_params' 'False' '30']\n",
      " ['qty_exclamation_params' 'False' '72']\n",
      " ['qty_space_params' 'False' '61']\n",
      " ['qty_tilde_params' 'False' '62']\n",
      " ['qty_comma_params' 'False' '66']\n",
      " ['qty_plus_params' 'False' '48']\n",
      " ['qty_asterisk_params' 'False' '65']\n",
      " ['qty_hashtag_params' 'False' '70']\n",
      " ['qty_dollar_params' 'False' '69']\n",
      " ['qty_percent_params' 'False' '47']\n",
      " ['params_length' 'False' '28']\n",
      " ['tld_present_params' 'True' '1']\n",
      " ['qty_params' 'False' '27']\n",
      " ['email_in_url' 'True' '1']\n",
      " ['time_response' 'False' '42']\n",
      " ['domain_spf' 'False' '55']\n",
      " ['asn_ip' 'False' '81']\n",
      " ['time_domain_activation' 'False' '73']\n",
      " ['time_domain_expiration' 'False' '74']\n",
      " ['qty_ip_resolved' 'False' '51']\n",
      " ['qty_nameservers' 'False' '12']\n",
      " ['qty_mx_servers' 'False' '46']\n",
      " ['ttl_hostname' 'False' '78']\n",
      " ['tls_ssl_certificate' 'False' '4']\n",
      " ['qty_redirects' 'False' '52']\n",
      " ['url_google_index' 'False' '59']\n",
      " ['domain_google_index' 'False' '3']\n",
      " ['url_shortened' 'True' '1']]\n"
     ]
    }
   ],
   "source": [
    "Features = data_x.columns.tolist()\n",
    "Selected_Features = np.column_stack((Features, Selected_Features_Support, Selected_Features_rank))\n",
    "print(Selected_Features)"
   ],
   "metadata": {
    "collapsed": false,
    "ExecuteTime": {
     "end_time": "2023-07-02T05:47:42.327632100Z",
     "start_time": "2023-07-02T05:47:42.311875700Z"
    }
   }
  },
  {
   "cell_type": "code",
   "execution_count": 36,
   "outputs": [
    {
     "name": "stdout",
     "output_type": "stream",
     "text": [
      "['qty_slash_url' 'qty_at_url' 'qty_asterisk_url' 'qty_dot_domain'\n",
      " 'qty_hyphen_domain' 'domain_in_ip' 'server_client_domain'\n",
      " 'qty_dot_directory' 'qty_equal_directory' 'qty_exclamation_directory'\n",
      " 'qty_comma_directory' 'qty_exclamation_file' 'qty_comma_file'\n",
      " 'qty_underline_params' 'qty_at_params' 'tld_present_params'\n",
      " 'email_in_url' 'url_shortened']\n"
     ]
    }
   ],
   "source": [
    "selected_idx = Selected_Features[:, 1] == 'True'\n",
    "final_selection = Selected_Features[selected_idx,0]\n",
    "print(final_selection)"
   ],
   "metadata": {
    "collapsed": false,
    "ExecuteTime": {
     "end_time": "2023-07-02T05:47:52.001943700Z",
     "start_time": "2023-07-02T05:47:51.988929300Z"
    }
   }
  },
  {
   "cell_type": "code",
   "execution_count": 37,
   "outputs": [
    {
     "name": "stdout",
     "output_type": "stream",
     "text": [
      "X Shape: (58645, 18)\n",
      "y Shape: (58645,)\n"
     ]
    }
   ],
   "source": [
    "X = data_x[final_selection]\n",
    "y = data['phishing']\n",
    "\n",
    "print(\"X Shape:\", X.shape)\n",
    "print(\"y Shape:\", y.shape)\n"
   ],
   "metadata": {
    "collapsed": false,
    "ExecuteTime": {
     "end_time": "2023-07-02T05:47:55.670145Z",
     "start_time": "2023-07-02T05:47:55.625199400Z"
    }
   }
  },
  {
   "cell_type": "code",
   "execution_count": 38,
   "outputs": [
    {
     "name": "stdout",
     "output_type": "stream",
     "text": [
      "Accuracy of logistic regression classifier on test set: 0.842901\n"
     ]
    }
   ],
   "source": [
    "X_train,X_test,y_train,y_test = train_test_split(X,y, test_size = 0.3, random_state=0)\n",
    "logreg = LogisticRegression()\n",
    "logreg.fit(X_train, y_train)\n",
    "y_pred = logreg.predict(X_test)\n",
    "\n",
    "## Calculating the accuracy\n",
    "print('Accuracy of logistic regression classifier on test set: {:2f}'.format(logreg.score(X_test,y_test)))"
   ],
   "metadata": {
    "collapsed": false,
    "ExecuteTime": {
     "end_time": "2023-07-02T05:47:59.188340Z",
     "start_time": "2023-07-02T05:47:58.937470800Z"
    }
   }
  },
  {
   "cell_type": "code",
   "execution_count": 41,
   "outputs": [
    {
     "name": "stdout",
     "output_type": "stream",
     "text": [
      "10-fold cross-validation average accuracy : 0.843\n"
     ]
    }
   ],
   "source": [
    "from sklearn import model_selection\n",
    "kfold = model_selection.KFold(n_splits = 10)\n",
    "\n",
    "modelCV = LogisticRegression()\n",
    "scoring = 'accuracy'\n",
    "results = model_selection.cross_val_score(modelCV, X_train,y_train, cv = kfold, scoring = scoring)\n",
    "print(\"10-fold cross-validation average accuracy : %.3f\" % (results.mean()))"
   ],
   "metadata": {
    "collapsed": false,
    "ExecuteTime": {
     "end_time": "2023-07-02T05:51:32.078952800Z",
     "start_time": "2023-07-02T05:51:30.121463100Z"
    }
   }
  },
  {
   "cell_type": "code",
   "execution_count": 62,
   "outputs": [
    {
     "name": "stdout",
     "output_type": "stream",
     "text": [
      "[[6793 1544]\n",
      " [1045 8212]]\n"
     ]
    }
   ],
   "source": [
    "from sklearn.metrics import confusion_matrix\n",
    "confusion_matrix = confusion_matrix(y_test, y_pred)\n",
    "print(confusion_matrix)"
   ],
   "metadata": {
    "collapsed": false,
    "ExecuteTime": {
     "end_time": "2023-07-02T06:05:08.872852800Z",
     "start_time": "2023-07-02T06:05:08.855458500Z"
    }
   }
  },
  {
   "cell_type": "markdown",
   "source": [
    "Thus, True Positive = 6793, False Positive = 1045, True Negative = 8212, False Negative = 1544\n",
    "\n",
    "Precision = TP/(TP+FP)\n",
    "\n",
    "Recall = TP/(TP+FN)\n",
    "\n",
    "F score = 2 * (Precision * Recall)/(Precision + Recall)\n",
    "\n",
    "** Calculating Precission, Recall & F1 score**"
   ],
   "metadata": {
    "collapsed": false
   }
  },
  {
   "cell_type": "code",
   "execution_count": 63,
   "outputs": [
    {
     "name": "stdout",
     "output_type": "stream",
     "text": [
      "              precision    recall  f1-score   support\n",
      "\n",
      "           0       0.87      0.81      0.84      8337\n",
      "           1       0.84      0.89      0.86      9257\n",
      "\n",
      "    accuracy                           0.85     17594\n",
      "   macro avg       0.85      0.85      0.85     17594\n",
      "weighted avg       0.85      0.85      0.85     17594\n",
      "\n"
     ]
    }
   ],
   "source": [
    "from sklearn.metrics import classification_report\n",
    "print(classification_report(y_test,y_pred))"
   ],
   "metadata": {
    "collapsed": false,
    "ExecuteTime": {
     "end_time": "2023-07-02T06:05:51.115069100Z",
     "start_time": "2023-07-02T06:05:51.051488Z"
    }
   }
  }
 ],
 "metadata": {
  "kernelspec": {
   "display_name": "Python 3",
   "language": "python",
   "name": "python3"
  },
  "language_info": {
   "codemirror_mode": {
    "name": "ipython",
    "version": 2
   },
   "file_extension": ".py",
   "mimetype": "text/x-python",
   "name": "python",
   "nbconvert_exporter": "python",
   "pygments_lexer": "ipython2",
   "version": "2.7.6"
  }
 },
 "nbformat": 4,
 "nbformat_minor": 0
}
